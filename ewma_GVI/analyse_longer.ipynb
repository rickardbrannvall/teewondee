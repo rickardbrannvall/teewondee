{
 "cells": [
  {
   "cell_type": "code",
   "execution_count": 1,
   "id": "7a9e7398-5967-4b46-b119-b5a1ffc8e7a6",
   "metadata": {},
   "outputs": [],
   "source": [
    "import numpy as np\n",
    "import pandas as pd\n",
    "import matplotlib.pyplot as plt\n",
    "\n",
    "from glob import glob\n",
    "import os\n",
    "\n",
    "from IPython.display import display\n"
   ]
  },
  {
   "cell_type": "markdown",
   "id": "12417a1b-b2df-47a7-be91-3ff7d36d31fb",
   "metadata": {},
   "source": [
    "## score functions"
   ]
  },
  {
   "cell_type": "code",
   "execution_count": 2,
   "id": "417e1652-6c46-4af8-b841-a278525b478c",
   "metadata": {},
   "outputs": [],
   "source": [
    "def score_GVP(dy, ceil = 2.):\n",
    "    gvp = (1.0 + (dy/5.0)**2)**0.5 - 1.0\n",
    "    res = np.clip(gvp, 0., ceil) # if gvp < ceil {gvp} else {ceil};\n",
    "    return 100.*res\n"
   ]
  },
  {
   "cell_type": "code",
   "execution_count": 3,
   "id": "ad6eb499-383f-438b-8a0b-8ba34a8c50c0",
   "metadata": {},
   "outputs": [
    {
     "name": "stdout",
     "output_type": "stream",
     "text": [
      "(11520, 8)\n"
     ]
    },
    {
     "data": {
      "text/html": [
       "<div>\n",
       "<style scoped>\n",
       "    .dataframe tbody tr th:only-of-type {\n",
       "        vertical-align: middle;\n",
       "    }\n",
       "\n",
       "    .dataframe tbody tr th {\n",
       "        vertical-align: top;\n",
       "    }\n",
       "\n",
       "    .dataframe thead th {\n",
       "        text-align: right;\n",
       "    }\n",
       "</style>\n",
       "<table border=\"1\" class=\"dataframe\">\n",
       "  <thead>\n",
       "    <tr style=\"text-align: right;\">\n",
       "      <th></th>\n",
       "      <th>ts</th>\n",
       "      <th>CGM</th>\n",
       "      <th>TIR</th>\n",
       "      <th>H70</th>\n",
       "      <th>H54</th>\n",
       "      <th>DIFF</th>\n",
       "      <th>ABS50</th>\n",
       "      <th>RDV</th>\n",
       "    </tr>\n",
       "  </thead>\n",
       "  <tbody>\n",
       "    <tr>\n",
       "      <th>0</th>\n",
       "      <td>2021-08-07 07:53:40</td>\n",
       "      <td>145.823333</td>\n",
       "      <td>100.0</td>\n",
       "      <td>0.0</td>\n",
       "      <td>0.0</td>\n",
       "      <td>3.658667</td>\n",
       "      <td>3.658667</td>\n",
       "      <td>2.391262</td>\n",
       "    </tr>\n",
       "    <tr>\n",
       "      <th>1</th>\n",
       "      <td>2021-08-07 07:58:40</td>\n",
       "      <td>152.420000</td>\n",
       "      <td>100.0</td>\n",
       "      <td>0.0</td>\n",
       "      <td>0.0</td>\n",
       "      <td>6.596667</td>\n",
       "      <td>6.596667</td>\n",
       "      <td>6.554880</td>\n",
       "    </tr>\n",
       "    <tr>\n",
       "      <th>2</th>\n",
       "      <td>2021-08-07 08:03:40</td>\n",
       "      <td>158.823333</td>\n",
       "      <td>100.0</td>\n",
       "      <td>0.0</td>\n",
       "      <td>0.0</td>\n",
       "      <td>6.403333</td>\n",
       "      <td>6.403333</td>\n",
       "      <td>6.248406</td>\n",
       "    </tr>\n",
       "    <tr>\n",
       "      <th>3</th>\n",
       "      <td>2021-08-07 08:08:40</td>\n",
       "      <td>165.823333</td>\n",
       "      <td>100.0</td>\n",
       "      <td>0.0</td>\n",
       "      <td>0.0</td>\n",
       "      <td>7.000000</td>\n",
       "      <td>7.000000</td>\n",
       "      <td>7.204651</td>\n",
       "    </tr>\n",
       "    <tr>\n",
       "      <th>4</th>\n",
       "      <td>2021-08-07 08:13:40</td>\n",
       "      <td>172.420000</td>\n",
       "      <td>100.0</td>\n",
       "      <td>0.0</td>\n",
       "      <td>0.0</td>\n",
       "      <td>6.596667</td>\n",
       "      <td>6.596667</td>\n",
       "      <td>6.554880</td>\n",
       "    </tr>\n",
       "  </tbody>\n",
       "</table>\n",
       "</div>"
      ],
      "text/plain": [
       "                    ts         CGM    TIR  H70  H54      DIFF     ABS50  \\\n",
       "0  2021-08-07 07:53:40  145.823333  100.0  0.0  0.0  3.658667  3.658667   \n",
       "1  2021-08-07 07:58:40  152.420000  100.0  0.0  0.0  6.596667  6.596667   \n",
       "2  2021-08-07 08:03:40  158.823333  100.0  0.0  0.0  6.403333  6.403333   \n",
       "3  2021-08-07 08:08:40  165.823333  100.0  0.0  0.0  7.000000  7.000000   \n",
       "4  2021-08-07 08:13:40  172.420000  100.0  0.0  0.0  6.596667  6.596667   \n",
       "\n",
       "        RDV  \n",
       "0  2.391262  \n",
       "1  6.554880  \n",
       "2  6.248406  \n",
       "3  7.204651  \n",
       "4  6.554880  "
      ]
     },
     "execution_count": 3,
     "metadata": {},
     "output_type": "execute_result"
    }
   ],
   "source": [
    "data = \"CGM_p77_40D\"\n",
    "diff = \"CGMDIFF\"+data[3:]\n",
    "\n",
    "df = pd.read_csv(\"data/%s.csv\"%data, header=None, names=[\"ts\",\"CGM\"])\n",
    "df[\"TIR\"] = df[\"CGM\"].apply(lambda x: 100.0 if ((x<180) & (x>70)) else 0.0)\n",
    "df[\"H70\"] = df[\"CGM\"].apply(lambda x: 100.0 if (x<70) else 0.0)\n",
    "df[\"H54\"] = df[\"CGM\"].apply(lambda x: 100.0 if (x<54) else 0.0)\n",
    "\n",
    "df[\"DIFF\"] = pd.read_csv(\"data/%s.csv\"%diff, header=None, index_col=0).values\n",
    "df[\"ABS50\"] = df[\"DIFF\"].clip(-50.,50.).apply(np.abs)\n",
    "df[\"RDV\"] = df[\"DIFF\"].apply(lambda x: 10*score_GVP(x, 10)/100)\n",
    "\n",
    "print(df.shape)\n",
    "df.head()\n"
   ]
  },
  {
   "cell_type": "code",
   "execution_count": 4,
   "id": "02ea6681-4719-426f-9cf2-05e0c61a92ed",
   "metadata": {},
   "outputs": [
    {
     "name": "stdout",
     "output_type": "stream",
     "text": [
      "(960, 7) 960.0\n"
     ]
    },
    {
     "data": {
      "text/html": [
       "<div>\n",
       "<style scoped>\n",
       "    .dataframe tbody tr th:only-of-type {\n",
       "        vertical-align: middle;\n",
       "    }\n",
       "\n",
       "    .dataframe tbody tr th {\n",
       "        vertical-align: top;\n",
       "    }\n",
       "\n",
       "    .dataframe thead th {\n",
       "        text-align: right;\n",
       "    }\n",
       "</style>\n",
       "<table border=\"1\" class=\"dataframe\">\n",
       "  <thead>\n",
       "    <tr style=\"text-align: right;\">\n",
       "      <th></th>\n",
       "      <th>CGM</th>\n",
       "      <th>TIR</th>\n",
       "      <th>H70</th>\n",
       "      <th>H54</th>\n",
       "      <th>DIFF</th>\n",
       "      <th>ABS50</th>\n",
       "      <th>RDV</th>\n",
       "    </tr>\n",
       "  </thead>\n",
       "  <tbody>\n",
       "    <tr>\n",
       "      <th>0</th>\n",
       "      <td>176.990267</td>\n",
       "      <td>50.000000</td>\n",
       "      <td>0.0</td>\n",
       "      <td>0.0</td>\n",
       "      <td>3.972684</td>\n",
       "      <td>4.754383</td>\n",
       "      <td>4.470832</td>\n",
       "    </tr>\n",
       "    <tr>\n",
       "      <th>1</th>\n",
       "      <td>182.215312</td>\n",
       "      <td>33.333333</td>\n",
       "      <td>0.0</td>\n",
       "      <td>0.0</td>\n",
       "      <td>-1.172549</td>\n",
       "      <td>1.172549</td>\n",
       "      <td>0.271294</td>\n",
       "    </tr>\n",
       "    <tr>\n",
       "      <th>2</th>\n",
       "      <td>168.144729</td>\n",
       "      <td>100.000000</td>\n",
       "      <td>0.0</td>\n",
       "      <td>0.0</td>\n",
       "      <td>-1.172549</td>\n",
       "      <td>1.172549</td>\n",
       "      <td>0.271294</td>\n",
       "    </tr>\n",
       "    <tr>\n",
       "      <th>3</th>\n",
       "      <td>146.342611</td>\n",
       "      <td>100.000000</td>\n",
       "      <td>0.0</td>\n",
       "      <td>0.0</td>\n",
       "      <td>-3.203698</td>\n",
       "      <td>3.962968</td>\n",
       "      <td>2.823029</td>\n",
       "    </tr>\n",
       "    <tr>\n",
       "      <th>4</th>\n",
       "      <td>95.301333</td>\n",
       "      <td>100.000000</td>\n",
       "      <td>0.0</td>\n",
       "      <td>0.0</td>\n",
       "      <td>-4.300000</td>\n",
       "      <td>4.300000</td>\n",
       "      <td>3.189390</td>\n",
       "    </tr>\n",
       "  </tbody>\n",
       "</table>\n",
       "</div>"
      ],
      "text/plain": [
       "          CGM         TIR  H70  H54      DIFF     ABS50       RDV\n",
       "0  176.990267   50.000000  0.0  0.0  3.972684  4.754383  4.470832\n",
       "1  182.215312   33.333333  0.0  0.0 -1.172549  1.172549  0.271294\n",
       "2  168.144729  100.000000  0.0  0.0 -1.172549  1.172549  0.271294\n",
       "3  146.342611  100.000000  0.0  0.0 -3.203698  3.962968  2.823029\n",
       "4   95.301333  100.000000  0.0  0.0 -4.300000  4.300000  3.189390"
      ]
     },
     "execution_count": 4,
     "metadata": {},
     "output_type": "execute_result"
    }
   ],
   "source": [
    "dfh = df.groupby(df.index//12).mean()\n",
    "print(dfh.shape, len(df)/12)\n",
    "dfh.head()\n"
   ]
  },
  {
   "cell_type": "code",
   "execution_count": 5,
   "id": "70f742fc-6bb0-43a2-bdd9-432c31072117",
   "metadata": {},
   "outputs": [
    {
     "name": "stdout",
     "output_type": "stream",
     "text": [
      "(833, 7)\n"
     ]
    },
    {
     "data": {
      "text/html": [
       "<div>\n",
       "<style scoped>\n",
       "    .dataframe tbody tr th:only-of-type {\n",
       "        vertical-align: middle;\n",
       "    }\n",
       "\n",
       "    .dataframe tbody tr th {\n",
       "        vertical-align: top;\n",
       "    }\n",
       "\n",
       "    .dataframe thead th {\n",
       "        text-align: right;\n",
       "    }\n",
       "</style>\n",
       "<table border=\"1\" class=\"dataframe\">\n",
       "  <thead>\n",
       "    <tr style=\"text-align: right;\">\n",
       "      <th></th>\n",
       "      <th>CGM</th>\n",
       "      <th>TIR</th>\n",
       "      <th>H70</th>\n",
       "      <th>H54</th>\n",
       "      <th>DIFF</th>\n",
       "      <th>ABS50</th>\n",
       "      <th>RDV</th>\n",
       "    </tr>\n",
       "  </thead>\n",
       "  <tbody>\n",
       "    <tr>\n",
       "      <th>127</th>\n",
       "      <td>151.309790</td>\n",
       "      <td>78.776042</td>\n",
       "      <td>1.5625</td>\n",
       "      <td>0.520833</td>\n",
       "      <td>-0.018434</td>\n",
       "      <td>3.688908</td>\n",
       "      <td>3.464265</td>\n",
       "    </tr>\n",
       "    <tr>\n",
       "      <th>128</th>\n",
       "      <td>150.763772</td>\n",
       "      <td>79.166667</td>\n",
       "      <td>1.5625</td>\n",
       "      <td>0.520833</td>\n",
       "      <td>-0.054256</td>\n",
       "      <td>3.676298</td>\n",
       "      <td>3.447018</td>\n",
       "    </tr>\n",
       "    <tr>\n",
       "      <th>129</th>\n",
       "      <td>150.101304</td>\n",
       "      <td>79.687500</td>\n",
       "      <td>1.5625</td>\n",
       "      <td>0.520833</td>\n",
       "      <td>-0.048416</td>\n",
       "      <td>3.686972</td>\n",
       "      <td>3.460844</td>\n",
       "    </tr>\n",
       "    <tr>\n",
       "      <th>130</th>\n",
       "      <td>149.705035</td>\n",
       "      <td>79.687500</td>\n",
       "      <td>1.5625</td>\n",
       "      <td>0.520833</td>\n",
       "      <td>0.002585</td>\n",
       "      <td>3.722343</td>\n",
       "      <td>3.514271</td>\n",
       "    </tr>\n",
       "    <tr>\n",
       "      <th>131</th>\n",
       "      <td>149.864342</td>\n",
       "      <td>79.687500</td>\n",
       "      <td>1.5625</td>\n",
       "      <td>0.520833</td>\n",
       "      <td>0.032397</td>\n",
       "      <td>3.705656</td>\n",
       "      <td>3.498290</td>\n",
       "    </tr>\n",
       "  </tbody>\n",
       "</table>\n",
       "</div>"
      ],
      "text/plain": [
       "            CGM        TIR     H70       H54      DIFF     ABS50       RDV\n",
       "127  151.309790  78.776042  1.5625  0.520833 -0.018434  3.688908  3.464265\n",
       "128  150.763772  79.166667  1.5625  0.520833 -0.054256  3.676298  3.447018\n",
       "129  150.101304  79.687500  1.5625  0.520833 -0.048416  3.686972  3.460844\n",
       "130  149.705035  79.687500  1.5625  0.520833  0.002585  3.722343  3.514271\n",
       "131  149.864342  79.687500  1.5625  0.520833  0.032397  3.705656  3.498290"
      ]
     },
     "execution_count": 5,
     "metadata": {},
     "output_type": "execute_result"
    }
   ],
   "source": [
    "window = 128\n",
    "dfr = dfh.rolling(window).mean()\n",
    "dfr = dfr.reset_index(drop=True).dropna()\n",
    "print(dfr.shape)\n",
    "dfr.head()\n"
   ]
  },
  {
   "cell_type": "markdown",
   "id": "297f8098-01c1-48e6-ad4d-e520031229fe",
   "metadata": {},
   "source": [
    "## hourly series"
   ]
  },
  {
   "cell_type": "code",
   "execution_count": 6,
   "id": "84ea29e6-1464-43ff-beea-2031047c6812",
   "metadata": {},
   "outputs": [
    {
     "data": {
      "text/plain": [
       "{'CGM': 1,\n",
       " 'TIR_CGM': 1,\n",
       " 'H70_CGM': 1,\n",
       " 'H54_CGM': 1,\n",
       " 'RDV_CGM_DIFF': 1,\n",
       " 'ABS50_CGM_DIFF': 1}"
      ]
     },
     "execution_count": 6,
     "metadata": {},
     "output_type": "execute_result"
    }
   ],
   "source": [
    "allfiles = glob(\"data/*/%s*hourly.csv\"%data) + glob(\"data/*/%s*hourly.csv\"%diff)\n",
    "\n",
    "dth = {\"CGM\": {}}\n",
    "\n",
    "for filepath in allfiles:\n",
    "    _, keys, filename = filepath.split(\"/\")\n",
    "    name, _ = filename.split(\".\")\n",
    "    tmp = name.split(\"_\")\n",
    "    tag = keys+\"_\"+\"_\".join(tmp[3:6])\n",
    "    idx = \"_\".join(tmp[6:-1])\n",
    "    if \"DIFF\" in name:\n",
    "        idx = idx + \"_DIFF\"\n",
    "    if idx not in dth.keys():\n",
    "        dth[idx] = {}\n",
    "    #print(tag, idx)\n",
    "    dth[idx][tag] = pd.read_csv(filepath, header=None).values[:,0]\n",
    "            \n",
    "{key:len(dth[key]) for key in dth.keys()}\n"
   ]
  },
  {
   "cell_type": "code",
   "execution_count": 61,
   "id": "9c9099db-3c86-4710-905b-2bf747ae0cca",
   "metadata": {},
   "outputs": [
    {
     "name": "stdout",
     "output_type": "stream",
     "text": [
      "\n",
      "\n",
      " CGM (960, 1) (960, 1) (960, 1)\n"
     ]
    },
    {
     "data": {
      "text/html": [
       "<div>\n",
       "<style scoped>\n",
       "    .dataframe tbody tr th:only-of-type {\n",
       "        vertical-align: middle;\n",
       "    }\n",
       "\n",
       "    .dataframe tbody tr th {\n",
       "        vertical-align: top;\n",
       "    }\n",
       "\n",
       "    .dataframe thead th {\n",
       "        text-align: right;\n",
       "    }\n",
       "</style>\n",
       "<table border=\"1\" class=\"dataframe\">\n",
       "  <thead>\n",
       "    <tr style=\"text-align: right;\">\n",
       "      <th></th>\n",
       "      <th>mean</th>\n",
       "      <th>std</th>\n",
       "      <th>25%</th>\n",
       "      <th>50%</th>\n",
       "      <th>75%</th>\n",
       "      <th>rmse</th>\n",
       "      <th>avg</th>\n",
       "      <th>rel</th>\n",
       "    </tr>\n",
       "  </thead>\n",
       "  <tbody>\n",
       "    <tr>\n",
       "      <th>80_1024_1_6_4_2_3_400</th>\n",
       "      <td>-0.103239</td>\n",
       "      <td>4.865852</td>\n",
       "      <td>-3.208408</td>\n",
       "      <td>-0.166338</td>\n",
       "      <td>3.281145</td>\n",
       "      <td>4.866947</td>\n",
       "      <td>160.750282</td>\n",
       "      <td>0.030276</td>\n",
       "    </tr>\n",
       "  </tbody>\n",
       "</table>\n",
       "</div>"
      ],
      "text/plain": [
       "                           mean       std       25%       50%       75%  \\\n",
       "80_1024_1_6_4_2_3_400 -0.103239  4.865852 -3.208408 -0.166338  3.281145   \n",
       "\n",
       "                           rmse         avg       rel  \n",
       "80_1024_1_6_4_2_3_400  4.866947  160.750282  0.030276  "
      ]
     },
     "metadata": {},
     "output_type": "display_data"
    },
    {
     "name": "stdout",
     "output_type": "stream",
     "text": [
      "\n",
      "\n",
      " TIR_CGM (960, 1) (960, 1) (960, 1)\n"
     ]
    },
    {
     "data": {
      "text/html": [
       "<div>\n",
       "<style scoped>\n",
       "    .dataframe tbody tr th:only-of-type {\n",
       "        vertical-align: middle;\n",
       "    }\n",
       "\n",
       "    .dataframe tbody tr th {\n",
       "        vertical-align: top;\n",
       "    }\n",
       "\n",
       "    .dataframe thead th {\n",
       "        text-align: right;\n",
       "    }\n",
       "</style>\n",
       "<table border=\"1\" class=\"dataframe\">\n",
       "  <thead>\n",
       "    <tr style=\"text-align: right;\">\n",
       "      <th></th>\n",
       "      <th>mean</th>\n",
       "      <th>std</th>\n",
       "      <th>25%</th>\n",
       "      <th>50%</th>\n",
       "      <th>75%</th>\n",
       "      <th>rmse</th>\n",
       "      <th>avg</th>\n",
       "      <th>rel</th>\n",
       "    </tr>\n",
       "  </thead>\n",
       "  <tbody>\n",
       "    <tr>\n",
       "      <th>80_1024_1_6_4_2_3_400</th>\n",
       "      <td>-0.110405</td>\n",
       "      <td>4.155178</td>\n",
       "      <td>-0.893942</td>\n",
       "      <td>0.0</td>\n",
       "      <td>0.502962</td>\n",
       "      <td>4.156645</td>\n",
       "      <td>66.623264</td>\n",
       "      <td>0.06239</td>\n",
       "    </tr>\n",
       "  </tbody>\n",
       "</table>\n",
       "</div>"
      ],
      "text/plain": [
       "                           mean       std       25%  50%       75%      rmse  \\\n",
       "80_1024_1_6_4_2_3_400 -0.110405  4.155178 -0.893942  0.0  0.502962  4.156645   \n",
       "\n",
       "                             avg      rel  \n",
       "80_1024_1_6_4_2_3_400  66.623264  0.06239  "
      ]
     },
     "metadata": {},
     "output_type": "display_data"
    },
    {
     "name": "stdout",
     "output_type": "stream",
     "text": [
      "\n",
      "\n",
      " H70_CGM (960, 1) (960, 1) (960, 1)\n"
     ]
    },
    {
     "data": {
      "text/html": [
       "<div>\n",
       "<style scoped>\n",
       "    .dataframe tbody tr th:only-of-type {\n",
       "        vertical-align: middle;\n",
       "    }\n",
       "\n",
       "    .dataframe tbody tr th {\n",
       "        vertical-align: top;\n",
       "    }\n",
       "\n",
       "    .dataframe thead th {\n",
       "        text-align: right;\n",
       "    }\n",
       "</style>\n",
       "<table border=\"1\" class=\"dataframe\">\n",
       "  <thead>\n",
       "    <tr style=\"text-align: right;\">\n",
       "      <th></th>\n",
       "      <th>mean</th>\n",
       "      <th>std</th>\n",
       "      <th>25%</th>\n",
       "      <th>50%</th>\n",
       "      <th>75%</th>\n",
       "      <th>rmse</th>\n",
       "      <th>avg</th>\n",
       "      <th>rel</th>\n",
       "    </tr>\n",
       "  </thead>\n",
       "  <tbody>\n",
       "    <tr>\n",
       "      <th>80_1024_1_6_4_2_3_400</th>\n",
       "      <td>0.96767</td>\n",
       "      <td>2.038585</td>\n",
       "      <td>0.129595</td>\n",
       "      <td>0.888721</td>\n",
       "      <td>1.530987</td>\n",
       "      <td>2.256594</td>\n",
       "      <td>1.475694</td>\n",
       "      <td>1.529174</td>\n",
       "    </tr>\n",
       "  </tbody>\n",
       "</table>\n",
       "</div>"
      ],
      "text/plain": [
       "                          mean       std       25%       50%       75%  \\\n",
       "80_1024_1_6_4_2_3_400  0.96767  2.038585  0.129595  0.888721  1.530987   \n",
       "\n",
       "                           rmse       avg       rel  \n",
       "80_1024_1_6_4_2_3_400  2.256594  1.475694  1.529174  "
      ]
     },
     "metadata": {},
     "output_type": "display_data"
    },
    {
     "name": "stdout",
     "output_type": "stream",
     "text": [
      "\n",
      "\n",
      " H54_CGM (960, 1) (960, 1) (960, 1)\n"
     ]
    },
    {
     "data": {
      "text/html": [
       "<div>\n",
       "<style scoped>\n",
       "    .dataframe tbody tr th:only-of-type {\n",
       "        vertical-align: middle;\n",
       "    }\n",
       "\n",
       "    .dataframe tbody tr th {\n",
       "        vertical-align: top;\n",
       "    }\n",
       "\n",
       "    .dataframe thead th {\n",
       "        text-align: right;\n",
       "    }\n",
       "</style>\n",
       "<table border=\"1\" class=\"dataframe\">\n",
       "  <thead>\n",
       "    <tr style=\"text-align: right;\">\n",
       "      <th></th>\n",
       "      <th>mean</th>\n",
       "      <th>std</th>\n",
       "      <th>25%</th>\n",
       "      <th>50%</th>\n",
       "      <th>75%</th>\n",
       "      <th>rmse</th>\n",
       "      <th>avg</th>\n",
       "      <th>rel</th>\n",
       "    </tr>\n",
       "  </thead>\n",
       "  <tbody>\n",
       "    <tr>\n",
       "      <th>80_1024_1_6_4_2_3_400</th>\n",
       "      <td>0.965584</td>\n",
       "      <td>1.086132</td>\n",
       "      <td>0.128714</td>\n",
       "      <td>0.765359</td>\n",
       "      <td>1.532345</td>\n",
       "      <td>1.453284</td>\n",
       "      <td>0.425347</td>\n",
       "      <td>3.416701</td>\n",
       "    </tr>\n",
       "  </tbody>\n",
       "</table>\n",
       "</div>"
      ],
      "text/plain": [
       "                           mean       std       25%       50%       75%  \\\n",
       "80_1024_1_6_4_2_3_400  0.965584  1.086132  0.128714  0.765359  1.532345   \n",
       "\n",
       "                           rmse       avg       rel  \n",
       "80_1024_1_6_4_2_3_400  1.453284  0.425347  3.416701  "
      ]
     },
     "metadata": {},
     "output_type": "display_data"
    },
    {
     "name": "stdout",
     "output_type": "stream",
     "text": [
      "\n",
      "\n",
      " RDV_CGM_DIFF (960, 1) (960, 1) (960, 1)\n"
     ]
    },
    {
     "data": {
      "text/html": [
       "<div>\n",
       "<style scoped>\n",
       "    .dataframe tbody tr th:only-of-type {\n",
       "        vertical-align: middle;\n",
       "    }\n",
       "\n",
       "    .dataframe tbody tr th {\n",
       "        vertical-align: top;\n",
       "    }\n",
       "\n",
       "    .dataframe thead th {\n",
       "        text-align: right;\n",
       "    }\n",
       "</style>\n",
       "<table border=\"1\" class=\"dataframe\">\n",
       "  <thead>\n",
       "    <tr style=\"text-align: right;\">\n",
       "      <th></th>\n",
       "      <th>mean</th>\n",
       "      <th>std</th>\n",
       "      <th>25%</th>\n",
       "      <th>50%</th>\n",
       "      <th>75%</th>\n",
       "      <th>rmse</th>\n",
       "      <th>avg</th>\n",
       "      <th>rel</th>\n",
       "    </tr>\n",
       "  </thead>\n",
       "  <tbody>\n",
       "    <tr>\n",
       "      <th>80_1024_1_6_4_2_3_50</th>\n",
       "      <td>0.35241</td>\n",
       "      <td>1.153424</td>\n",
       "      <td>-0.39715</td>\n",
       "      <td>0.337996</td>\n",
       "      <td>1.135684</td>\n",
       "      <td>1.20606</td>\n",
       "      <td>2.972226</td>\n",
       "      <td>0.405777</td>\n",
       "    </tr>\n",
       "  </tbody>\n",
       "</table>\n",
       "</div>"
      ],
      "text/plain": [
       "                         mean       std      25%       50%       75%     rmse  \\\n",
       "80_1024_1_6_4_2_3_50  0.35241  1.153424 -0.39715  0.337996  1.135684  1.20606   \n",
       "\n",
       "                           avg       rel  \n",
       "80_1024_1_6_4_2_3_50  2.972226  0.405777  "
      ]
     },
     "metadata": {},
     "output_type": "display_data"
    },
    {
     "name": "stdout",
     "output_type": "stream",
     "text": [
      "\n",
      "\n",
      " ABS50_CGM_DIFF (960, 1) (960, 1) (960, 1)\n"
     ]
    },
    {
     "data": {
      "text/html": [
       "<div>\n",
       "<style scoped>\n",
       "    .dataframe tbody tr th:only-of-type {\n",
       "        vertical-align: middle;\n",
       "    }\n",
       "\n",
       "    .dataframe tbody tr th {\n",
       "        vertical-align: top;\n",
       "    }\n",
       "\n",
       "    .dataframe thead th {\n",
       "        text-align: right;\n",
       "    }\n",
       "</style>\n",
       "<table border=\"1\" class=\"dataframe\">\n",
       "  <thead>\n",
       "    <tr style=\"text-align: right;\">\n",
       "      <th></th>\n",
       "      <th>mean</th>\n",
       "      <th>std</th>\n",
       "      <th>25%</th>\n",
       "      <th>50%</th>\n",
       "      <th>75%</th>\n",
       "      <th>rmse</th>\n",
       "      <th>avg</th>\n",
       "      <th>rel</th>\n",
       "    </tr>\n",
       "  </thead>\n",
       "  <tbody>\n",
       "    <tr>\n",
       "      <th>80_1024_1_6_4_2_3_50</th>\n",
       "      <td>0.123957</td>\n",
       "      <td>0.642235</td>\n",
       "      <td>-0.302464</td>\n",
       "      <td>0.155209</td>\n",
       "      <td>0.56944</td>\n",
       "      <td>0.654088</td>\n",
       "      <td>3.320354</td>\n",
       "      <td>0.196993</td>\n",
       "    </tr>\n",
       "  </tbody>\n",
       "</table>\n",
       "</div>"
      ],
      "text/plain": [
       "                          mean       std       25%       50%      75%  \\\n",
       "80_1024_1_6_4_2_3_50  0.123957  0.642235 -0.302464  0.155209  0.56944   \n",
       "\n",
       "                          rmse       avg       rel  \n",
       "80_1024_1_6_4_2_3_50  0.654088  3.320354  0.196993  "
      ]
     },
     "metadata": {},
     "output_type": "display_data"
    }
   ],
   "source": [
    "#fig, axs = plt.subplots(3,2, figsize=(12, 8))\n",
    "for i, idx in enumerate(dth.keys()):\n",
    "    tmp = pd.DataFrame(dth[idx], index=None)\n",
    "    #axs[i%3,i//3].plot(tmp)\n",
    "    tst = dfh[idx.split(\"_\")[:1]]\n",
    "    #axs[i%3,i//3].plot(tst)\n",
    "    err = tmp - tst.values\n",
    "    #axs[i%3,i//3].plot(err)\n",
    "    print(\"\\n\\n\", idx, tst.shape, tmp.shape, err.shape)       \n",
    "    stats = err.describe().T[[\"mean\",\"std\",\"25%\",\"50%\",\"75%\"]]\n",
    "    stats[\"rmse\"] = (stats[\"mean\"]**2 + stats[\"std\"]**2)**0.5\n",
    "    stats[\"avg\"] = tst.mean()[0]\n",
    "    stats[\"rel\"] = stats[\"rmse\"]/stats[\"avg\"]\n",
    "    display(stats)\n",
    "#plt.show()\n"
   ]
  },
  {
   "cell_type": "markdown",
   "id": "95d4e09d-79c2-4f5c-87f5-a52fc4876e24",
   "metadata": {},
   "source": [
    "## rolling series"
   ]
  },
  {
   "cell_type": "code",
   "execution_count": 63,
   "id": "470ab5e5-5df5-41b3-bdf0-08b721167cd4",
   "metadata": {},
   "outputs": [
    {
     "data": {
      "text/plain": [
       "{'CGM_hourly_rolling': 1,\n",
       " 'TIR_CGM_hourly_rolling': 1,\n",
       " 'H54_CGM_hourly_rolling': 1,\n",
       " 'H70_CGM_hourly_rolling': 1}"
      ]
     },
     "execution_count": 63,
     "metadata": {},
     "output_type": "execute_result"
    }
   ],
   "source": [
    "allfiles = glob(\"data/*/%s*hourly_rolling_128.csv\"%data) + glob(\"data/*/%s*hourly_rolling_128.csv\"%diff)\n",
    "\n",
    "dtr = {}\n",
    "\n",
    "for filepath in allfiles:\n",
    "    _, keys, filename = filepath.split(\"/\")\n",
    "    name, _ = filename.split(\".\")\n",
    "    tmp = name.split(\"_\")\n",
    "    tag = keys+\"_\"+\"_\".join(tmp[3:6])\n",
    "    idx = \"_\".join(tmp[6:-1])\n",
    "    if \"DIFF\" in name:\n",
    "        idx = idx + \"_DIFF\"\n",
    "    if idx not in dth.keys():\n",
    "        dtr[idx] = {}\n",
    "    #print(tag, idx)\n",
    "    dtr[idx][tag] = pd.read_csv(filepath, header=None).values[:,0]\n",
    "            \n",
    "{key:len(dtr[key]) for key in dtr.keys()}\n"
   ]
  },
  {
   "cell_type": "code",
   "execution_count": 80,
   "id": "40c8efb7-436b-4da2-8564-c7b146091c74",
   "metadata": {},
   "outputs": [
    {
     "ename": "NameError",
     "evalue": "name 'nom' is not defined",
     "output_type": "error",
     "traceback": [
      "\u001b[0;31m---------------------------------------------------------------------------\u001b[0m",
      "\u001b[0;31mNameError\u001b[0m                                 Traceback (most recent call last)",
      "\u001b[0;32m/tmp/ipykernel_2979/1683907266.py\u001b[0m in \u001b[0;36m<module>\u001b[0;34m\u001b[0m\n\u001b[0;32m----> 1\u001b[0;31m \u001b[0mnom\u001b[0m\u001b[0;34m\u001b[0m\u001b[0;34m\u001b[0m\u001b[0m\n\u001b[0m",
      "\u001b[0;31mNameError\u001b[0m: name 'nom' is not defined"
     ]
    }
   ],
   "source": []
  },
  {
   "cell_type": "code",
   "execution_count": 81,
   "id": "0da84d64-1c06-4a4c-ac9b-e0d40843a114",
   "metadata": {},
   "outputs": [
    {
     "name": "stdout",
     "output_type": "stream",
     "text": [
      "\n",
      "\n",
      " CGM_hourly_rolling (833, 1) (833, 1) (833, 1)\n"
     ]
    },
    {
     "data": {
      "text/html": [
       "<div>\n",
       "<style scoped>\n",
       "    .dataframe tbody tr th:only-of-type {\n",
       "        vertical-align: middle;\n",
       "    }\n",
       "\n",
       "    .dataframe tbody tr th {\n",
       "        vertical-align: top;\n",
       "    }\n",
       "\n",
       "    .dataframe thead th {\n",
       "        text-align: right;\n",
       "    }\n",
       "</style>\n",
       "<table border=\"1\" class=\"dataframe\">\n",
       "  <thead>\n",
       "    <tr style=\"text-align: right;\">\n",
       "      <th></th>\n",
       "      <th>mean</th>\n",
       "      <th>std</th>\n",
       "      <th>25%</th>\n",
       "      <th>50%</th>\n",
       "      <th>75%</th>\n",
       "      <th>rmse</th>\n",
       "      <th>avg</th>\n",
       "      <th>rel</th>\n",
       "    </tr>\n",
       "  </thead>\n",
       "  <tbody>\n",
       "    <tr>\n",
       "      <th>80_1024_1_6_4_2_3_400</th>\n",
       "      <td>0.007227</td>\n",
       "      <td>3.974512</td>\n",
       "      <td>-2.592521</td>\n",
       "      <td>0.134483</td>\n",
       "      <td>2.370247</td>\n",
       "      <td>3.974519</td>\n",
       "      <td>162.403218</td>\n",
       "      <td>0.024473</td>\n",
       "    </tr>\n",
       "  </tbody>\n",
       "</table>\n",
       "</div>"
      ],
      "text/plain": [
       "                           mean       std       25%       50%       75%  \\\n",
       "80_1024_1_6_4_2_3_400  0.007227  3.974512 -2.592521  0.134483  2.370247   \n",
       "\n",
       "                           rmse         avg       rel  \n",
       "80_1024_1_6_4_2_3_400  3.974519  162.403218  0.024473  "
      ]
     },
     "metadata": {},
     "output_type": "display_data"
    },
    {
     "name": "stdout",
     "output_type": "stream",
     "text": [
      "\n",
      "\n",
      " TIR_CGM_hourly_rolling (833, 1) (833, 1) (833, 1)\n"
     ]
    },
    {
     "data": {
      "text/html": [
       "<div>\n",
       "<style scoped>\n",
       "    .dataframe tbody tr th:only-of-type {\n",
       "        vertical-align: middle;\n",
       "    }\n",
       "\n",
       "    .dataframe tbody tr th {\n",
       "        vertical-align: top;\n",
       "    }\n",
       "\n",
       "    .dataframe thead th {\n",
       "        text-align: right;\n",
       "    }\n",
       "</style>\n",
       "<table border=\"1\" class=\"dataframe\">\n",
       "  <thead>\n",
       "    <tr style=\"text-align: right;\">\n",
       "      <th></th>\n",
       "      <th>mean</th>\n",
       "      <th>std</th>\n",
       "      <th>25%</th>\n",
       "      <th>50%</th>\n",
       "      <th>75%</th>\n",
       "      <th>rmse</th>\n",
       "      <th>avg</th>\n",
       "      <th>rel</th>\n",
       "    </tr>\n",
       "  </thead>\n",
       "  <tbody>\n",
       "    <tr>\n",
       "      <th>80_1024_1_6_4_2_3_400</th>\n",
       "      <td>-0.003162</td>\n",
       "      <td>1.082603</td>\n",
       "      <td>-0.77323</td>\n",
       "      <td>0.038486</td>\n",
       "      <td>0.738521</td>\n",
       "      <td>1.082608</td>\n",
       "      <td>65.712613</td>\n",
       "      <td>0.016475</td>\n",
       "    </tr>\n",
       "  </tbody>\n",
       "</table>\n",
       "</div>"
      ],
      "text/plain": [
       "                           mean       std      25%       50%       75%  \\\n",
       "80_1024_1_6_4_2_3_400 -0.003162  1.082603 -0.77323  0.038486  0.738521   \n",
       "\n",
       "                           rmse        avg       rel  \n",
       "80_1024_1_6_4_2_3_400  1.082608  65.712613  0.016475  "
      ]
     },
     "metadata": {},
     "output_type": "display_data"
    },
    {
     "name": "stdout",
     "output_type": "stream",
     "text": [
      "\n",
      "\n",
      " H54_CGM_hourly_rolling (833, 1) (833, 1) (833, 1)\n"
     ]
    },
    {
     "data": {
      "text/html": [
       "<div>\n",
       "<style scoped>\n",
       "    .dataframe tbody tr th:only-of-type {\n",
       "        vertical-align: middle;\n",
       "    }\n",
       "\n",
       "    .dataframe tbody tr th {\n",
       "        vertical-align: top;\n",
       "    }\n",
       "\n",
       "    .dataframe thead th {\n",
       "        text-align: right;\n",
       "    }\n",
       "</style>\n",
       "<table border=\"1\" class=\"dataframe\">\n",
       "  <thead>\n",
       "    <tr style=\"text-align: right;\">\n",
       "      <th></th>\n",
       "      <th>mean</th>\n",
       "      <th>std</th>\n",
       "      <th>25%</th>\n",
       "      <th>50%</th>\n",
       "      <th>75%</th>\n",
       "      <th>rmse</th>\n",
       "      <th>avg</th>\n",
       "      <th>rel</th>\n",
       "    </tr>\n",
       "  </thead>\n",
       "  <tbody>\n",
       "    <tr>\n",
       "      <th>80_1024_1_6_4_2_3_400</th>\n",
       "      <td>1.199301</td>\n",
       "      <td>0.839621</td>\n",
       "      <td>0.559237</td>\n",
       "      <td>1.228432</td>\n",
       "      <td>1.755945</td>\n",
       "      <td>1.463997</td>\n",
       "      <td>0.403755</td>\n",
       "      <td>3.625951</td>\n",
       "    </tr>\n",
       "  </tbody>\n",
       "</table>\n",
       "</div>"
      ],
      "text/plain": [
       "                           mean       std       25%       50%       75%  \\\n",
       "80_1024_1_6_4_2_3_400  1.199301  0.839621  0.559237  1.228432  1.755945   \n",
       "\n",
       "                           rmse       avg       rel  \n",
       "80_1024_1_6_4_2_3_400  1.463997  0.403755  3.625951  "
      ]
     },
     "metadata": {},
     "output_type": "display_data"
    },
    {
     "name": "stdout",
     "output_type": "stream",
     "text": [
      "\n",
      "\n",
      " H70_CGM_hourly_rolling (833, 1) (833, 1) (833, 1)\n"
     ]
    },
    {
     "data": {
      "text/html": [
       "<div>\n",
       "<style scoped>\n",
       "    .dataframe tbody tr th:only-of-type {\n",
       "        vertical-align: middle;\n",
       "    }\n",
       "\n",
       "    .dataframe tbody tr th {\n",
       "        vertical-align: top;\n",
       "    }\n",
       "\n",
       "    .dataframe thead th {\n",
       "        text-align: right;\n",
       "    }\n",
       "</style>\n",
       "<table border=\"1\" class=\"dataframe\">\n",
       "  <thead>\n",
       "    <tr style=\"text-align: right;\">\n",
       "      <th></th>\n",
       "      <th>mean</th>\n",
       "      <th>std</th>\n",
       "      <th>25%</th>\n",
       "      <th>50%</th>\n",
       "      <th>75%</th>\n",
       "      <th>rmse</th>\n",
       "      <th>avg</th>\n",
       "      <th>rel</th>\n",
       "    </tr>\n",
       "  </thead>\n",
       "  <tbody>\n",
       "    <tr>\n",
       "      <th>80_1024_1_6_4_2_3_400</th>\n",
       "      <td>1.035064</td>\n",
       "      <td>0.911086</td>\n",
       "      <td>0.462932</td>\n",
       "      <td>1.043225</td>\n",
       "      <td>1.68832</td>\n",
       "      <td>1.378925</td>\n",
       "      <td>1.471761</td>\n",
       "      <td>0.936922</td>\n",
       "    </tr>\n",
       "  </tbody>\n",
       "</table>\n",
       "</div>"
      ],
      "text/plain": [
       "                           mean       std       25%       50%      75%  \\\n",
       "80_1024_1_6_4_2_3_400  1.035064  0.911086  0.462932  1.043225  1.68832   \n",
       "\n",
       "                           rmse       avg       rel  \n",
       "80_1024_1_6_4_2_3_400  1.378925  1.471761  0.936922  "
      ]
     },
     "metadata": {},
     "output_type": "display_data"
    },
    {
     "data": {
      "image/png": "[encoded data removed]",
      "text/plain": [
       "<Figure size 864x576 with 6 Axes>"
      ]
     },
     "metadata": {
      "needs_background": "light"
     },
     "output_type": "display_data"
    }
   ],
   "source": [
    "fig, axs = plt.subplots(3,2, figsize=(12, 8))\n",
    "for i, idx in enumerate(dtr.keys()):\n",
    "    nom = idx.split(\"_\")[0]\n",
    "    axs[i%3,i//3].set_ylabel(nom)\n",
    "    tmp = pd.DataFrame(dtr[idx], index=None)\n",
    "    axs[i%3,i//3].plot(tmp)\n",
    "    tst = dfr[[nom]].reset_index(drop=True)\n",
    "    axs[i%3,i//3].plot(tst)\n",
    "    err = tmp - tst.values\n",
    "    #axs[i%3,i//3].plot(err)\n",
    "    print(\"\\n\\n\", idx, tst.shape, tmp.shape, err.shape)  \n",
    "    stats = err.describe().T[[\"mean\",\"std\",\"25%\",\"50%\",\"75%\"]]\n",
    "    stats[\"rmse\"] = (stats[\"mean\"]**2 + stats[\"std\"]**2)**0.5\n",
    "    stats[\"avg\"] = tst.mean()[0]\n",
    "    stats[\"rel\"] = stats[\"rmse\"]/stats[\"avg\"]\n",
    "    display(stats)\n",
    "plt.show()\n"
   ]
  },
  {
   "cell_type": "code",
   "execution_count": null,
   "id": "bbe437a6-fcd2-45ea-b8b6-bce05e68672f",
   "metadata": {},
   "outputs": [],
   "source": []
  }
 ],
 "metadata": {
  "kernelspec": {
   "display_name": "Python 3 (ipykernel)",
   "language": "python",
   "name": "python3"
  },
  "language_info": {
   "codemirror_mode": {
    "name": "ipython",
    "version": 3
   },
   "file_extension": ".py",
   "mimetype": "text/x-python",
   "name": "python",
   "nbconvert_exporter": "python",
   "pygments_lexer": "ipython3",
   "version": "3.9.7"
  }
 },
 "nbformat": 4,
 "nbformat_minor": 5
}
