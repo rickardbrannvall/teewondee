{
 "cells": [
  {
   "cell_type": "code",
   "execution_count": null,
   "id": "dc0a9abc-c27f-405b-bc31-b1c31006c59e",
   "metadata": {},
   "outputs": [],
   "source": [
    "import numpy as np\n",
    "import pandas as pd\n",
    "import matplotlib.pyplot as plt\n",
    "\n",
    "from glob import glob\n",
    "import os\n"
   ]
  },
  {
   "cell_type": "code",
   "execution_count": 27,
   "id": "fa1ee61f-d0f9-4ea8-babb-248082988e95",
   "metadata": {},
   "outputs": [
    {
     "data": {
      "text/plain": [
       "11520"
      ]
     },
     "execution_count": 27,
     "metadata": {},
     "output_type": "execute_result"
    }
   ],
   "source": [
    "40*24*12\n"
   ]
  },
  {
   "cell_type": "markdown",
   "id": "62fa498e-6350-4dad-b867-0d23d30e5494",
   "metadata": {},
   "source": [
    "## score functions"
   ]
  },
  {
   "cell_type": "code",
   "execution_count": null,
   "id": "85fec5e8-f65b-4d43-afa8-d9ffd06e9a35",
   "metadata": {},
   "outputs": [],
   "source": [
    "def score_GVP(dy):\n",
    "    ceil = 2.\n",
    "    gvp = (1.0 + (dy/5.0)**2)**0.5 - 1.0\n",
    "    res = np.clip(gvp, 0., ceil) # if gvp < ceil {gvp} else {ceil};\n",
    "    return 100.*res\n"
   ]
  },
  {
   "cell_type": "code",
   "execution_count": null,
   "id": "48784b0e-7489-4d88-a6c4-549223e8e8cc",
   "metadata": {},
   "outputs": [],
   "source": [
    "data = \"CGM_p77_24h\"\n",
    "diff = \"CGMDIFF\"+data[3:]\n",
    "\n",
    "df = pd.read_csv(\"data/%s.csv\"%data, header=None, names=[\"ts\",\"CGM\"])\n",
    "df[\"TIR\"] = df[\"CGM\"].apply(lambda x: 100.0 if ((x<180) & (x>70)) else 0.0)\n",
    "df[\"H70\"] = df[\"CGM\"].apply(lambda x: 100.0 if (x<70) else 0.0)\n",
    "df[\"H54\"] = df[\"CGM\"].apply(lambda x: 100.0 if (x<54) else 0.0)\n",
    "df[\"LOG\"] = df[\"CGM\"].apply(lambda x: 200.*(np.log(np.clip(x,20,400))/np.log(20)-1))\n",
    "df[\"GVP\"] = df[\"CGM\"].diff(1).apply()\n",
    "df[\"ADV\"] = df[\"CGM\"].diff(1).apply(np.abs)\n",
    "print(df.iloc[:,1:].mean())\n",
    "df.head()\n"
   ]
  },
  {
   "cell_type": "markdown",
   "id": "211fe13e-8dc5-418a-8758-463183138a39",
   "metadata": {},
   "source": [
    "## rolling averages"
   ]
  },
  {
   "cell_type": "code",
   "execution_count": null,
   "id": "2b98d033-5166-41ce-831d-6ec06438e904",
   "metadata": {},
   "outputs": [],
   "source": [
    "win = 8\n",
    "dfr = df.rolling(8).mean().iloc[win-1:]\n",
    "dfr.reset_index(drop=True, inplace=True)\n",
    "dfr\n"
   ]
  },
  {
   "cell_type": "code",
   "execution_count": null,
   "id": "12ad11d3-b9f1-4ee9-9b79-eee5822ecc87",
   "metadata": {},
   "outputs": [],
   "source": [
    "#!ls data/*/*rolling*.csv"
   ]
  },
  {
   "cell_type": "code",
   "execution_count": null,
   "id": "66ac8abd-7c35-480b-8a31-c16421ee9117",
   "metadata": {},
   "outputs": [],
   "source": [
    "allfiles = glob(\"data/*/%s*rolling*.csv\"%data)\n",
    "\n",
    "dtr_281 = {}\n",
    "dtr_280 = {}\n",
    "\n",
    "for filepath in allfiles:\n",
    "    _, keys, filename = filepath.split(\"/\")\n",
    "    name, _ = filename.split(\".\")\n",
    "    tmp = name.split(\"_\")\n",
    "    tag = keys+\"_\"+\"_\".join(tmp[3:])\n",
    "    if \"GVP\" in tag or \"ADV\" in tag:\n",
    "        dtr_280[tag] = pd.read_csv(filepath, header=None).values[:,0]\n",
    "    else:\n",
    "        dtr_281[tag] = pd.read_csv(filepath, header=None).values[:,0]\n",
    "        \n"
   ]
  },
  {
   "cell_type": "code",
   "execution_count": null,
   "id": "d518e26e-a417-4c06-a6ad-2bf992ddb7cd",
   "metadata": {},
   "outputs": [],
   "source": [
    "idx = \"CGM\"\n",
    "dtr = dtr_281\n",
    "dsr = pd.DataFrame(dtr, index=None) #index=dfr.index\n",
    "print(dsr.shape,dfr.shape)\n",
    "cols = [col for col in dsr.columns if \"TIR\" not in col and \"H70\" not in col and \"H54\" not in col and \"GVP\" not in col and \"ADV\" not in col and \"LOG\" not in col]\n",
    "print(cols)\n",
    "plt.plot(dfr[idx])\n",
    "plt.plot(dsr[cols], \".\")\n",
    "plt.show()\n",
    "#(dsh - dfh[[idx]].values).describe().T, pd.concat([dsh,dfh[idx]], axis =1)\n",
    "\n",
    "tmp = (dsr[cols] - dfr[[idx]].values).describe().T[[\"mean\",\"std\",\"25%\",\"75%\"]]\n",
    "tmp[\"rmse\"] = (tmp[\"std\"]**2+tmp[\"mean\"]**2)**0.5\n",
    "tmp[\"rel\"] = tmp[\"rmse\"]/dfr[idx].mean()\n",
    "tmp.sort_values(\"rel\")\n"
   ]
  },
  {
   "cell_type": "code",
   "execution_count": null,
   "id": "d4937d8e-c0bd-484c-bde2-db01ed094566",
   "metadata": {},
   "outputs": [],
   "source": [
    "idx = \"TIR\"\n",
    "dtr = dtr_281\n",
    "dsr = pd.DataFrame(dtr, index=None)\n",
    "cols = [col for col in dsr.columns if idx  in col]\n",
    "plt.plot(dfr[idx])\n",
    "plt.plot(dsr[cols], \".\")\n",
    "plt.show()\n",
    "#(dsh - dfh[[idx]].values).describe().T, pd.concat([dsh,dfh[idx]], axis =1)\n",
    "\n",
    "tmp = (dsr[cols] - dfr[[idx]].values).describe().T[[\"mean\",\"std\",\"25%\",\"75%\"]]\n",
    "tmp[\"rmse\"] = (tmp[\"std\"]**2+tmp[\"mean\"]**2)**0.5\n",
    "tmp[\"rel\"] = tmp[\"rmse\"]/dfr[idx].mean()\n",
    "tmp.sort_values(\"rel\")\n"
   ]
  },
  {
   "cell_type": "code",
   "execution_count": null,
   "id": "519d991e-f618-49d3-ae7b-028d82c5c99b",
   "metadata": {},
   "outputs": [],
   "source": [
    "idx = \"GVP\"\n",
    "dtr = dtr_280\n",
    "dsr = pd.DataFrame(dtr, index=None)\n",
    "cols = [col for col in dsr.columns if idx  in col]\n",
    "plt.plot(dfr[idx])\n",
    "plt.plot(dsr[cols], \".\")\n",
    "plt.show()\n",
    "#(dsh - dfh[[idx]].values).describe().T, pd.concat([dsh,dfh[idx]], axis =1)\n",
    "\n",
    "tmp = (dsr[cols] - dfr[[idx]].values[-len(dsr):]).describe().T[[\"mean\",\"std\",\"25%\",\"75%\"]]\n",
    "tmp[\"rmse\"] = (tmp[\"std\"]**2+tmp[\"mean\"]**2)**0.5\n",
    "tmp[\"rel\"] = tmp[\"rmse\"]/dfr[idx].mean()\n",
    "tmp.sort_values(\"rel\")\n"
   ]
  },
  {
   "cell_type": "code",
   "execution_count": null,
   "id": "3e4c7418-6a50-4d9b-86bf-4a9ccdcd8e20",
   "metadata": {},
   "outputs": [],
   "source": [
    "idx = \"LOG\"\n",
    "dtr = dtr_281\n",
    "dsr = pd.DataFrame(dtr, index=None)\n",
    "cols = [col for col in dsr.columns if idx  in col]\n",
    "plt.plot(dfr[idx])\n",
    "plt.plot(dsr[cols], \".\")\n",
    "plt.show()\n",
    "#(dsh - dfh[[idx]].values).describe().T, pd.concat([dsh,dfh[idx]], axis =1)\n",
    "\n",
    "tmp = (dsr[cols] - dfr[[idx]].values).describe().T[[\"mean\",\"std\",\"25%\",\"75%\"]]\n",
    "tmp[\"rmse\"] = (tmp[\"std\"]**2+tmp[\"mean\"]**2)**0.5\n",
    "tmp[\"rel\"] = tmp[\"rmse\"]/dfr[idx].mean()\n",
    "tmp.sort_values(\"rel\")\n"
   ]
  },
  {
   "cell_type": "code",
   "execution_count": null,
   "id": "75ecc320-4f79-4b6f-88ec-7ee50aab176d",
   "metadata": {},
   "outputs": [],
   "source": [
    "1+3"
   ]
  },
  {
   "cell_type": "markdown",
   "id": "30343c03-a1c6-4395-b71f-0ecaa39fbda2",
   "metadata": {},
   "source": [
    "### cost of rolling\n",
    "\n",
    "time cost of one bootstrap"
   ]
  },
  {
   "cell_type": "code",
   "execution_count": 7,
   "id": "625c75ad-0b04-442f-abc4-f43c4bb72aae",
   "metadata": {},
   "outputs": [
    {
     "name": "stdout",
     "output_type": "stream",
     "text": [
      "80_1024_1_6_4 CGM_p77_40D_2_3_400 H70 25 3595\n",
      "80_1024_1_6_4 CGM_p77_40D_2_3_400 TIR 2606 3689\n",
      "80_1024_1_6_4 CGM_p77_40D_2_3_400 H70 26 3578\n",
      "80_1024_1_6_4 CGM_p77_40D_2_3_400 TIR 2607 3710\n",
      "80_1024_1_6_4 CGM_p77_40D_2_3_400 H70 27 3670\n",
      "80_1024_1_6_4 CGM_p77_40D_2_3_400 TIR 2608 3614\n",
      "80_1024_1_6_4 CGM_p77_40D_2_3_400 H70 28 3754\n",
      "80_1024_1_6_4 CGM_p77_40D_2_3_400 TIR 2609 3613\n",
      "80_1024_1_6_4 CGM_p77_40D_2_3_400 H70 29 3600\n",
      "80_1024_1_6_4 CGM_p77_40D_2_3_400 TIR 2610 3673\n"
     ]
    }
   ],
   "source": [
    "!tail scores_stats.txt"
   ]
  },
  {
   "cell_type": "markdown",
   "id": "a54b3454-211c-408f-91f3-ab43edd69067",
   "metadata": {},
   "source": [
    "time cost for rolling every 5 min"
   ]
  },
  {
   "cell_type": "code",
   "execution_count": 25,
   "id": "19519113-26ad-4bf8-9508-4cba551513c4",
   "metadata": {},
   "outputs": [
    {
     "data": {
      "text/plain": [
       "3.5555555555555554"
      ]
     },
     "execution_count": 25,
     "metadata": {},
     "output_type": "execute_result"
    }
   ],
   "source": [
    "2**10/(12*24)"
   ]
  },
  {
   "cell_type": "code",
   "execution_count": 17,
   "id": "7a76a3d4-0380-48c0-b756-f80f8fc5baf0",
   "metadata": {},
   "outputs": [
    {
     "data": {
      "text/plain": [
       "(10, 53, 3.2683333333333335)"
      ]
     },
     "execution_count": 17,
     "metadata": {},
     "output_type": "execute_result"
    }
   ],
   "source": [
    "n = 10\n",
    "m = n*4+n-1+1+2+1\n",
    "n, m, 3.7*m/60"
   ]
  },
  {
   "cell_type": "markdown",
   "id": "1fc27d93-db4e-411b-aa2b-13a19d02231d",
   "metadata": {},
   "source": [
    "combined cost of rolling over hourly averages (with amortisation)"
   ]
  },
  {
   "cell_type": "code",
   "execution_count": 39,
   "id": "c5574252-8a12-45df-9b06-7f3ebab222ff",
   "metadata": {},
   "outputs": [
    {
     "data": {
      "text/plain": [
       "(7.0, 5.333333333333333)"
      ]
     },
     "execution_count": 39,
     "metadata": {},
     "output_type": "execute_result"
    }
   ],
   "source": [
    "(2**7+2**5+2**3)/24, (2**7)/24"
   ]
  },
  {
   "cell_type": "code",
   "execution_count": 23,
   "id": "b7484e71-3864-464e-9764-331f92d7951e",
   "metadata": {},
   "outputs": [
    {
     "data": {
      "text/plain": [
       "(7, 158, 13.166666666666666, 9.743333333333334, 0.8119444444444445)"
      ]
     },
     "execution_count": 23,
     "metadata": {},
     "output_type": "execute_result"
    }
   ],
   "source": [
    "n = 7\n",
    "m = (n*4+n-1+1+2+1) + 5*2*12\n",
    "t = 3.7*m/60\n",
    "n, m, m/12, t, t/12"
   ]
  },
  {
   "cell_type": "code",
   "execution_count": null,
   "id": "8580155f-dba7-4da3-bab2-99258780cf35",
   "metadata": {},
   "outputs": [],
   "source": []
  },
  {
   "cell_type": "code",
   "execution_count": null,
   "id": "ffa5e4ec-0287-478e-bae8-4913d27a5288",
   "metadata": {},
   "outputs": [],
   "source": []
  }
 ],
 "metadata": {
  "kernelspec": {
   "display_name": "Python 3 (ipykernel)",
   "language": "python",
   "name": "python3"
  },
  "language_info": {
   "codemirror_mode": {
    "name": "ipython",
    "version": 3
   },
   "file_extension": ".py",
   "mimetype": "text/x-python",
   "name": "python",
   "nbconvert_exporter": "python",
   "pygments_lexer": "ipython3",
   "version": "3.9.7"
  }
 },
 "nbformat": 4,
 "nbformat_minor": 5
}
