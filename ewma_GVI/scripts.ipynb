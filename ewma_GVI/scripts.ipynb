{
 "cells": [
  {
   "cell_type": "code",
   "execution_count": 19,
   "id": "db4c7998-d30c-4382-a4dd-a8f272adc97c",
   "metadata": {},
   "outputs": [],
   "source": [
    "import pandas as pd\n",
    "import numpy as np\n",
    "import matplotlib.pyplot as plt\n",
    "\n",
    "from glob import glob\n",
    "import os\n"
   ]
  },
  {
   "cell_type": "code",
   "execution_count": 14,
   "id": "5ac7a69b-ff78-43f4-a278-3440c5ed22a8",
   "metadata": {},
   "outputs": [
    {
     "name": "stdout",
     "output_type": "stream",
     "text": [
      "assume: encode 80_1024_1_6_6 CGM_p77_24h 2 3 400\n",
      "write to: data/80_1024_1_6_6/CGM_p77_24h_2_3_400.enc\n",
      "assume: encode 80_1024_1_6_6 CGM_p77_24h 3 3 400\n",
      "write to: data/80_1024_1_6_6/CGM_p77_24h_3_3_400.enc\n",
      "assume: encode 80_1024_1_6_6 CGM_p77_24h 4 3 400\n",
      "write to: data/80_1024_1_6_6/CGM_p77_24h_4_3_400.enc\n"
     ]
    }
   ],
   "source": [
    "base_log = 6\n",
    "level = 6\n",
    "#keys = \"80_1024_1_5_3\"\n",
    "data = \"CGM_p77_24h\"\n",
    "padd = 4\n",
    "prec = 3\n",
    "high = 400\n",
    "\n",
    "keys = \"80_1024_1_%d_%d\"%(base_log,level)\n",
    "\n",
    "for padd in [2,3,4]:\n",
    "    script = \"target/debug/encode_data %s %s %d %d %d\"%(keys, data, padd, prec, high)\n",
    "    !$script\n"
   ]
  },
  {
   "cell_type": "code",
   "execution_count": 29,
   "id": "7dadd08d-1f0c-4da4-adee-36984c4b8f68",
   "metadata": {},
   "outputs": [
    {
     "name": "stdout",
     "output_type": "stream",
     "text": [
      "data/80_1024_1_4_6/CGM_p77_24h_2_3_400.enc\n",
      "data/80_1024_1_4_6/CGM_p77_24h_3_3_400.enc\n",
      "data/80_1024_1_4_6/CGM_p77_24h_4_3_400.enc\n",
      "data/80_1024_1_5_3/CGM_p77_24h_2_3_400_cgm_hourly.enc\n",
      "data/80_1024_1_5_3/CGM_p77_24h_2_3_400.enc\n",
      "data/80_1024_1_5_3/CGM_p77_24h_2_3_400_rolling_8.enc\n",
      "data/80_1024_1_5_5/CGM_p77_24h_2_3_400.enc\n",
      "data/80_1024_1_5_5/CGM_p77_24h_3_3_400.enc\n",
      "data/80_1024_1_5_5/CGM_p77_24h_4_3_400.enc\n",
      "data/80_1024_1_6_4/CGM_p77_24h_2_3_400_cgm_hourly.enc\n",
      "data/80_1024_1_6_4/CGM_p77_24h_2_3_400.enc\n",
      "data/80_1024_1_6_4/CGM_p77_24h_2_3_400_H70.enc\n",
      "data/80_1024_1_6_4/CGM_p77_24h_2_3_400_rolling_8.enc\n",
      "data/80_1024_1_6_4/CGM_p77_24h_2_3_400_TIR.enc\n",
      "data/80_1024_1_6_4/CGM_p77_24h_3_3_400.enc\n",
      "data/80_1024_1_6_4/CGM_p77_24h_4_3_400.enc\n",
      "data/80_1024_1_6_6/CGM_p77_24h_2_3_400.enc\n",
      "data/80_1024_1_6_6/CGM_p77_24h_3_3_400.enc\n",
      "data/80_1024_1_6_6/CGM_p77_24h_4_3_400.enc\n"
     ]
    }
   ],
   "source": [
    "!ls data/*/*.enc"
   ]
  },
  {
   "cell_type": "code",
   "execution_count": 30,
   "id": "fab84815-a957-42f1-a5a8-c9a57b36988b",
   "metadata": {},
   "outputs": [
    {
     "name": "stdout",
     "output_type": "stream",
     "text": [
      "data/80_1024_1_4_6/CGM_p77_24h_2_3_400.csv\n",
      "data/80_1024_1_4_6/CGM_p77_24h_3_3_400.csv\n",
      "data/80_1024_1_4_6/CGM_p77_24h_4_3_400.csv\n",
      "data/80_1024_1_5_5/CGM_p77_24h_3_3_400.csv\n",
      "data/80_1024_1_6_4/CGM_p77_24h_2_3_400.csv\n"
     ]
    }
   ],
   "source": [
    "!ls data/*/*.csv"
   ]
  },
  {
   "cell_type": "code",
   "execution_count": 32,
   "id": "45b6f07c-99ee-402d-8861-023a9fd0796f",
   "metadata": {},
   "outputs": [
    {
     "name": "stdout",
     "output_type": "stream",
     "text": [
      "80_1024_1_4_6 CGM_p77_24h_3_3_400 True\n",
      "80_1024_1_4_6 CGM_p77_24h_4_3_400 True\n",
      "80_1024_1_4_6 CGM_p77_24h_2_3_400 True\n",
      "80_1024_1_5_5 CGM_p77_24h_3_3_400 True\n",
      "80_1024_1_5_5 CGM_p77_24h_4_3_400 True\n",
      "80_1024_1_5_5 CGM_p77_24h_2_3_400 True\n",
      "80_1024_1_6_6 CGM_p77_24h_3_3_400 True\n",
      "80_1024_1_6_6 CGM_p77_24h_4_3_400 True\n",
      "80_1024_1_6_6 CGM_p77_24h_2_3_400 True\n",
      "80_1024_1_5_3 CGM_p77_24h_2_3_400_cgm_hourly True\n",
      "80_1024_1_5_3 CGM_p77_24h_2_3_400 True\n",
      "80_1024_1_5_3 CGM_p77_24h_2_3_400_rolling_8 True\n",
      "80_1024_1_6_4 CGM_p77_24h_3_3_400 True\n",
      "80_1024_1_6_4 CGM_p77_24h_4_3_400 True\n",
      "80_1024_1_6_4 CGM_p77_24h_2_3_400_cgm_hourly True\n",
      "80_1024_1_6_4 CGM_p77_24h_2_3_400 True\n",
      "80_1024_1_6_4 CGM_p77_24h_2_3_400_TIR True\n",
      "80_1024_1_6_4 CGM_p77_24h_2_3_400_rolling_8 True\n",
      "80_1024_1_6_4 CGM_p77_24h_2_3_400_H70 True\n"
     ]
    }
   ],
   "source": [
    "allfiles = glob(\"data/*/*.enc\")\n",
    "for filepath in allfiles:\n",
    "    _, keys, filename = filepath.split(\"/\")\n",
    "    name, _ = filename.split(\".\")\n",
    "    file = \"data/%s/%s.csv\"%(keys,name)\n",
    "    print(keys, name, os.path.isfile(file))\n",
    "    if not os.path.isfile(file):\n",
    "        script = \"target/debug/decode_data %s %s\"%(keys, name)\n",
    "        #print(\"\", script)\n",
    "        !$script\n",
    "        "
   ]
  },
  {
   "cell_type": "markdown",
   "id": "39837817-5b88-4b4d-b40e-f543c1ed3847",
   "metadata": {},
   "source": [
    "## score functions"
   ]
  },
  {
   "cell_type": "code",
   "execution_count": 100,
   "id": "a9b960ac-23a4-4251-ab19-3bbbb9c0cc2f",
   "metadata": {},
   "outputs": [
    {
     "data": {
      "text/html": [
       "<div>\n",
       "<style scoped>\n",
       "    .dataframe tbody tr th:only-of-type {\n",
       "        vertical-align: middle;\n",
       "    }\n",
       "\n",
       "    .dataframe tbody tr th {\n",
       "        vertical-align: top;\n",
       "    }\n",
       "\n",
       "    .dataframe thead th {\n",
       "        text-align: right;\n",
       "    }\n",
       "</style>\n",
       "<table border=\"1\" class=\"dataframe\">\n",
       "  <thead>\n",
       "    <tr style=\"text-align: right;\">\n",
       "      <th></th>\n",
       "      <th>ts</th>\n",
       "      <th>CGM</th>\n",
       "      <th>TIR</th>\n",
       "      <th>H70</th>\n",
       "      <th>H54</th>\n",
       "    </tr>\n",
       "  </thead>\n",
       "  <tbody>\n",
       "    <tr>\n",
       "      <th>0</th>\n",
       "      <td>2021-01-01 12:18:40</td>\n",
       "      <td>189.000000</td>\n",
       "      <td>0.0</td>\n",
       "      <td>0.0</td>\n",
       "      <td>0.0</td>\n",
       "    </tr>\n",
       "    <tr>\n",
       "      <th>1</th>\n",
       "      <td>2021-01-01 12:23:40</td>\n",
       "      <td>194.993355</td>\n",
       "      <td>0.0</td>\n",
       "      <td>0.0</td>\n",
       "      <td>0.0</td>\n",
       "    </tr>\n",
       "    <tr>\n",
       "      <th>2</th>\n",
       "      <td>2021-01-01 12:28:40</td>\n",
       "      <td>193.000000</td>\n",
       "      <td>0.0</td>\n",
       "      <td>0.0</td>\n",
       "      <td>0.0</td>\n",
       "    </tr>\n",
       "    <tr>\n",
       "      <th>3</th>\n",
       "      <td>2021-01-01 12:33:40</td>\n",
       "      <td>198.980000</td>\n",
       "      <td>0.0</td>\n",
       "      <td>0.0</td>\n",
       "      <td>0.0</td>\n",
       "    </tr>\n",
       "    <tr>\n",
       "      <th>4</th>\n",
       "      <td>2021-01-01 12:38:40</td>\n",
       "      <td>193.006667</td>\n",
       "      <td>0.0</td>\n",
       "      <td>0.0</td>\n",
       "      <td>0.0</td>\n",
       "    </tr>\n",
       "  </tbody>\n",
       "</table>\n",
       "</div>"
      ],
      "text/plain": [
       "                    ts         CGM  TIR  H70  H54\n",
       "0  2021-01-01 12:18:40  189.000000  0.0  0.0  0.0\n",
       "1  2021-01-01 12:23:40  194.993355  0.0  0.0  0.0\n",
       "2  2021-01-01 12:28:40  193.000000  0.0  0.0  0.0\n",
       "3  2021-01-01 12:33:40  198.980000  0.0  0.0  0.0\n",
       "4  2021-01-01 12:38:40  193.006667  0.0  0.0  0.0"
      ]
     },
     "execution_count": 100,
     "metadata": {},
     "output_type": "execute_result"
    }
   ],
   "source": [
    "data = \"CGM_p77_24h\"\n",
    "\n",
    "df = pd.read_csv(\"data/%s.csv\"%data, header=None, names=[\"ts\",\"CGM\"])\n",
    "df[\"TIR\"] = df[\"CGM\"].apply(lambda x: 100.0 if ((x<180) & (x>70)) else 0.0)\n",
    "df[\"H70\"] = df[\"CGM\"].apply(lambda x: 100.0 if (x<70) else 0.0)\n",
    "df[\"H54\"] = df[\"CGM\"].apply(lambda x: 100.0 if (x<54) else 0.0)\n",
    "df.head()\n"
   ]
  },
  {
   "cell_type": "code",
   "execution_count": 107,
   "id": "6536d55c-75c5-4fe8-9be4-0fe8f24e9f4d",
   "metadata": {},
   "outputs": [
    {
     "name": "stdout",
     "output_type": "stream",
     "text": [
      "80_1024_1_4_6_2_3_400\n",
      "80_1024_1_4_6_3_3_400\n",
      "80_1024_1_4_6_4_3_400\n",
      "80_1024_1_5_5_2_3_400\n",
      "80_1024_1_5_5_3_3_400\n",
      "80_1024_1_5_5_4_3_400\n",
      "80_1024_1_6_6_2_3_400\n",
      "80_1024_1_6_6_3_3_400\n",
      "80_1024_1_6_6_4_3_400\n",
      "80_1024_1_5_3_2_3_400\n",
      "80_1024_1_6_4_2_3_400\n",
      "80_1024_1_6_4_3_3_400\n",
      "80_1024_1_6_4_2_3_400\n",
      "80_1024_1_6_4_2_3_400\n",
      "80_1024_1_6_4_4_3_400\n"
     ]
    }
   ],
   "source": [
    "allfiles = glob(\"data/*/%s*.csv\"%data)\n",
    "\n",
    "dt = {\"CGM\": {}, \"TIR\":{}, \"H70\":{}, \"H54\":{}, \"GVP\":{}}\n",
    "\n",
    "for filepath in allfiles:\n",
    "    _, keys, filename = filepath.split(\"/\")\n",
    "    name, _ = filename.split(\".\")\n",
    "    tmp = name.split(\"_\")\n",
    "    tag = keys+\"_\"+\"_\".join(tmp[3:6])\n",
    "    if len(tmp) == 6:\n",
    "        print(tag)\n",
    "        ds = pd.read_csv(filepath, header=None)\n",
    "        dt[\"CGM\"][tag] = ds.values[:,0]\n",
    "    elif len(tmp) == 7:\n",
    "        print(tag)\n",
    "        ds = pd.read_csv(filepath, header=None)\n",
    "        dt[tmp[-1]][tag] = ds.values[:,0]\n",
    "        "
   ]
  },
  {
   "cell_type": "code",
   "execution_count": 108,
   "id": "0cc43efa-3497-464d-bf7f-ff49461367f6",
   "metadata": {},
   "outputs": [
    {
     "data": {
      "text/html": [
       "<div>\n",
       "<style scoped>\n",
       "    .dataframe tbody tr th:only-of-type {\n",
       "        vertical-align: middle;\n",
       "    }\n",
       "\n",
       "    .dataframe tbody tr th {\n",
       "        vertical-align: top;\n",
       "    }\n",
       "\n",
       "    .dataframe thead th {\n",
       "        text-align: right;\n",
       "    }\n",
       "</style>\n",
       "<table border=\"1\" class=\"dataframe\">\n",
       "  <thead>\n",
       "    <tr style=\"text-align: right;\">\n",
       "      <th></th>\n",
       "      <th>CGM</th>\n",
       "      <th>TIR</th>\n",
       "      <th>H70</th>\n",
       "    </tr>\n",
       "  </thead>\n",
       "  <tbody>\n",
       "    <tr>\n",
       "      <th>80_1024_1_4_6_2_3_400</th>\n",
       "      <td>1.744310e-09</td>\n",
       "      <td>NaN</td>\n",
       "      <td>NaN</td>\n",
       "    </tr>\n",
       "    <tr>\n",
       "      <th>80_1024_1_4_6_3_3_400</th>\n",
       "      <td>3.093502e-09</td>\n",
       "      <td>NaN</td>\n",
       "      <td>NaN</td>\n",
       "    </tr>\n",
       "    <tr>\n",
       "      <th>80_1024_1_4_6_4_3_400</th>\n",
       "      <td>6.789277e-09</td>\n",
       "      <td>NaN</td>\n",
       "      <td>NaN</td>\n",
       "    </tr>\n",
       "    <tr>\n",
       "      <th>80_1024_1_5_5_2_3_400</th>\n",
       "      <td>1.618365e-09</td>\n",
       "      <td>NaN</td>\n",
       "      <td>NaN</td>\n",
       "    </tr>\n",
       "    <tr>\n",
       "      <th>80_1024_1_5_5_3_3_400</th>\n",
       "      <td>3.473092e-09</td>\n",
       "      <td>NaN</td>\n",
       "      <td>NaN</td>\n",
       "    </tr>\n",
       "    <tr>\n",
       "      <th>80_1024_1_5_5_4_3_400</th>\n",
       "      <td>6.542331e-09</td>\n",
       "      <td>NaN</td>\n",
       "      <td>NaN</td>\n",
       "    </tr>\n",
       "    <tr>\n",
       "      <th>80_1024_1_6_6_2_3_400</th>\n",
       "      <td>1.724071e-09</td>\n",
       "      <td>NaN</td>\n",
       "      <td>NaN</td>\n",
       "    </tr>\n",
       "    <tr>\n",
       "      <th>80_1024_1_6_6_3_3_400</th>\n",
       "      <td>3.179454e-09</td>\n",
       "      <td>NaN</td>\n",
       "      <td>NaN</td>\n",
       "    </tr>\n",
       "    <tr>\n",
       "      <th>80_1024_1_6_6_4_3_400</th>\n",
       "      <td>6.860771e-09</td>\n",
       "      <td>NaN</td>\n",
       "      <td>NaN</td>\n",
       "    </tr>\n",
       "    <tr>\n",
       "      <th>80_1024_1_5_3_2_3_400</th>\n",
       "      <td>1.581607e-09</td>\n",
       "      <td>NaN</td>\n",
       "      <td>NaN</td>\n",
       "    </tr>\n",
       "    <tr>\n",
       "      <th>80_1024_1_6_4_2_3_400</th>\n",
       "      <td>1.492768e-09</td>\n",
       "      <td>NaN</td>\n",
       "      <td>NaN</td>\n",
       "    </tr>\n",
       "    <tr>\n",
       "      <th>80_1024_1_6_4_3_3_400</th>\n",
       "      <td>3.568812e-09</td>\n",
       "      <td>NaN</td>\n",
       "      <td>NaN</td>\n",
       "    </tr>\n",
       "    <tr>\n",
       "      <th>80_1024_1_6_4_4_3_400</th>\n",
       "      <td>7.014760e-09</td>\n",
       "      <td>NaN</td>\n",
       "      <td>NaN</td>\n",
       "    </tr>\n",
       "    <tr>\n",
       "      <th>80_1024_1_6_4_2_3_400</th>\n",
       "      <td>NaN</td>\n",
       "      <td>5.892546</td>\n",
       "      <td>NaN</td>\n",
       "    </tr>\n",
       "    <tr>\n",
       "      <th>80_1024_1_6_4_2_3_400</th>\n",
       "      <td>NaN</td>\n",
       "      <td>NaN</td>\n",
       "      <td>0.002323</td>\n",
       "    </tr>\n",
       "  </tbody>\n",
       "</table>\n",
       "</div>"
      ],
      "text/plain": [
       "                                CGM       TIR       H70\n",
       "80_1024_1_4_6_2_3_400  1.744310e-09       NaN       NaN\n",
       "80_1024_1_4_6_3_3_400  3.093502e-09       NaN       NaN\n",
       "80_1024_1_4_6_4_3_400  6.789277e-09       NaN       NaN\n",
       "80_1024_1_5_5_2_3_400  1.618365e-09       NaN       NaN\n",
       "80_1024_1_5_5_3_3_400  3.473092e-09       NaN       NaN\n",
       "80_1024_1_5_5_4_3_400  6.542331e-09       NaN       NaN\n",
       "80_1024_1_6_6_2_3_400  1.724071e-09       NaN       NaN\n",
       "80_1024_1_6_6_3_3_400  3.179454e-09       NaN       NaN\n",
       "80_1024_1_6_6_4_3_400  6.860771e-09       NaN       NaN\n",
       "80_1024_1_5_3_2_3_400  1.581607e-09       NaN       NaN\n",
       "80_1024_1_6_4_2_3_400  1.492768e-09       NaN       NaN\n",
       "80_1024_1_6_4_3_3_400  3.568812e-09       NaN       NaN\n",
       "80_1024_1_6_4_4_3_400  7.014760e-09       NaN       NaN\n",
       "80_1024_1_6_4_2_3_400           NaN  5.892546       NaN\n",
       "80_1024_1_6_4_2_3_400           NaN       NaN  0.002323"
      ]
     },
     "execution_count": 108,
     "metadata": {},
     "output_type": "execute_result"
    }
   ],
   "source": [
    "tmp = pd.concat([\n",
    "    (pd.DataFrame(dt[idx], index=df.index) - df[[idx]].values).describe().T[[\"std\"]].rename(columns={'std': idx})\n",
    "          for idx in [\"CGM\",\"TIR\",\"H70\"] ])\n",
    "tmp"
   ]
  },
  {
   "cell_type": "code",
   "execution_count": 123,
   "id": "311541e8-0f91-4475-81cc-cdb3b4048f96",
   "metadata": {},
   "outputs": [
    {
     "data": {
      "text/plain": [
       "(                       count      mean       std    min       25%  50%  75%  \\\n",
       " 80_1024_1_6_4_2_3_400  288.0 -0.347407  5.892546 -100.0 -0.000586  0.0  0.0   \n",
       " \n",
       "                             max  \n",
       " 80_1024_1_6_4_2_3_400  0.009028  ,\n",
       "      80_1024_1_6_4_2_3_400    TIR\n",
       " 0                 0.001502    0.0\n",
       " 1                 0.003536    0.0\n",
       " 2                 0.002884    0.0\n",
       " 3                 0.000000    0.0\n",
       " 4                 0.000000    0.0\n",
       " ..                     ...    ...\n",
       " 283             100.000000  100.0\n",
       " 284             100.000000  100.0\n",
       " 285              99.997739  100.0\n",
       " 286             100.000000  100.0\n",
       " 287              99.997068  100.0\n",
       " \n",
       " [288 rows x 2 columns])"
      ]
     },
     "execution_count": 123,
     "metadata": {},
     "output_type": "execute_result"
    },
    {
     "data": {
      "image/png": "[encoded data removed]",
      "text/plain": [
       "<Figure size 432x288 with 1 Axes>"
      ]
     },
     "metadata": {
      "needs_background": "light"
     },
     "output_type": "display_data"
    }
   ],
   "source": [
    "idx = \"TIR\"\n",
    "ds = pd.DataFrame(dt[idx], index=df.index)\n",
    "plt.plot(df[idx])\n",
    "plt.plot(ds, \".\")\n",
    "(ds - df[[idx]].values).describe().T, pd.concat([ds,df[idx]], axis =1)\n"
   ]
  },
  {
   "cell_type": "code",
   "execution_count": 124,
   "id": "5c316f25-922e-4762-9081-9679542954ba",
   "metadata": {},
   "outputs": [
    {
     "data": {
      "text/plain": [
       "(                       count      mean       std  min  25%       50%  \\\n",
       " 80_1024_1_6_4_2_3_400  288.0  0.001666  0.002323  0.0  0.0  0.000399   \n",
       " \n",
       "                             75%       max  \n",
       " 80_1024_1_6_4_2_3_400  0.002879  0.011141  ,\n",
       "      80_1024_1_6_4_2_3_400  H70\n",
       " 0                 0.003780  0.0\n",
       " 1                 0.001225  0.0\n",
       " 2                 0.000000  0.0\n",
       " 3                 0.000000  0.0\n",
       " 4                 0.000945  0.0\n",
       " ..                     ...  ...\n",
       " 283               0.004952  0.0\n",
       " 284               0.000000  0.0\n",
       " 285               0.004651  0.0\n",
       " 286               0.001902  0.0\n",
       " 287               0.000000  0.0\n",
       " \n",
       " [288 rows x 2 columns])"
      ]
     },
     "execution_count": 124,
     "metadata": {},
     "output_type": "execute_result"
    },
    {
     "data": {
      "image/png": "[encoded data removed]",
      "text/plain": [
       "<Figure size 432x288 with 1 Axes>"
      ]
     },
     "metadata": {
      "needs_background": "light"
     },
     "output_type": "display_data"
    }
   ],
   "source": [
    "idx = \"H70\"\n",
    "ds = pd.DataFrame(dt[idx], index=df.index)\n",
    "plt.plot(df[idx])\n",
    "plt.plot(ds, \".\")\n",
    "(ds - df[[idx]].values).describe().T, pd.concat([ds,df[idx]], axis =1)\n"
   ]
  },
  {
   "cell_type": "code",
   "execution_count": null,
   "id": "805bbc98-2adc-44e3-8535-cab2a93be526",
   "metadata": {},
   "outputs": [],
   "source": []
  },
  {
   "cell_type": "code",
   "execution_count": null,
   "id": "e0dce9c2-ab9a-4bd6-a1e0-e8006b47e90a",
   "metadata": {},
   "outputs": [],
   "source": []
  },
  {
   "cell_type": "markdown",
   "id": "f2f19e1a-a7f5-4055-b188-8de04d7ab41b",
   "metadata": {},
   "source": [
    "## hourly averages"
   ]
  },
  {
   "cell_type": "code",
   "execution_count": 144,
   "id": "1ae2c314-529f-4590-b892-d4e160973b3a",
   "metadata": {},
   "outputs": [],
   "source": [
    "dfh = df.groupby(df.index//12).mean()\n"
   ]
  },
  {
   "cell_type": "code",
   "execution_count": 142,
   "id": "fb397c3a-5749-40d0-9f98-1cf2af61f987",
   "metadata": {},
   "outputs": [
    {
     "name": "stdout",
     "output_type": "stream",
     "text": [
      " target/debug/calc_hourly 80_1024_1_4_6 CGM_p77_24h_3_3_400\n",
      " target/debug/calc_hourly 80_1024_1_4_6 CGM_p77_24h_4_3_400\n",
      " target/debug/calc_hourly 80_1024_1_4_6 CGM_p77_24h_2_3_400\n",
      " target/debug/calc_hourly 80_1024_1_5_5 CGM_p77_24h_3_3_400\n",
      " target/debug/calc_hourly 80_1024_1_5_5 CGM_p77_24h_4_3_400\n",
      " target/debug/calc_hourly 80_1024_1_5_5 CGM_p77_24h_2_3_400\n",
      " target/debug/calc_hourly 80_1024_1_6_6 CGM_p77_24h_3_3_400\n",
      " target/debug/calc_hourly 80_1024_1_6_6 CGM_p77_24h_4_3_400\n",
      " target/debug/calc_hourly 80_1024_1_6_6 CGM_p77_24h_2_3_400\n",
      " target/debug/calc_hourly 80_1024_1_6_4 CGM_p77_24h_3_3_400\n",
      " target/debug/calc_hourly 80_1024_1_6_4 CGM_p77_24h_4_3_400\n"
     ]
    }
   ],
   "source": [
    "allfiles = glob(\"data/*/*.enc\")\n",
    "for filepath in allfiles:\n",
    "    _, keys, filename = filepath.split(\"/\")\n",
    "    name, _ = filename.split(\".\")\n",
    "    temp = name.split(\"_\")\n",
    "    file = \"data/%s/%s_CGM_hourly.enc\"%(keys,name)\n",
    "    #print(keys, name, len(temp) == 6, os.path.isfile(file))\n",
    "    if len(temp) == 6 and not os.path.isfile(file):\n",
    "        script = \"target/debug/calc_hourly %s %s\"%(keys, name)\n",
    "        print(\"\", script)\n",
    "        #!$script\n"
   ]
  },
  {
   "cell_type": "code",
   "execution_count": 145,
   "id": "574bee50-c26d-42d5-bb6f-48fefe447720",
   "metadata": {},
   "outputs": [
    {
     "name": "stdout",
     "output_type": "stream",
     "text": [
      "80_1024_1_5_3_2_3_400 CGM\n",
      "80_1024_1_6_4_2_3_400 CGM\n"
     ]
    }
   ],
   "source": [
    "allfiles = glob(\"data/*/%s*hourly.csv\"%data)\n",
    "\n",
    "dth = {\"CGM\": {}, \"TIR\":{}, \"H70\":{}, \"H54\":{}, \"GVP\":{}}\n",
    "\n",
    "for filepath in allfiles:\n",
    "    _, keys, filename = filepath.split(\"/\")\n",
    "    name, _ = filename.split(\".\")\n",
    "    tmp = name.split(\"_\")\n",
    "    idx = tmp[-2]\n",
    "    tag = keys+\"_\"+\"_\".join(tmp[3:6])\n",
    "    print(tag, idx)\n",
    "    dth[idx][tag] = pd.read_csv(filepath, header=None).values[:,0]\n",
    "        "
   ]
  },
  {
   "cell_type": "code",
   "execution_count": 147,
   "id": "5e71932a-ea71-404e-8e79-1778d92c2111",
   "metadata": {},
   "outputs": [
    {
     "data": {
      "text/html": [
       "<div>\n",
       "<style scoped>\n",
       "    .dataframe tbody tr th:only-of-type {\n",
       "        vertical-align: middle;\n",
       "    }\n",
       "\n",
       "    .dataframe tbody tr th {\n",
       "        vertical-align: top;\n",
       "    }\n",
       "\n",
       "    .dataframe thead th {\n",
       "        text-align: right;\n",
       "    }\n",
       "</style>\n",
       "<table border=\"1\" class=\"dataframe\">\n",
       "  <thead>\n",
       "    <tr style=\"text-align: right;\">\n",
       "      <th></th>\n",
       "      <th>CGM</th>\n",
       "    </tr>\n",
       "  </thead>\n",
       "  <tbody>\n",
       "    <tr>\n",
       "      <th>80_1024_1_5_3_2_3_400</th>\n",
       "      <td>12.411524</td>\n",
       "    </tr>\n",
       "    <tr>\n",
       "      <th>80_1024_1_6_4_2_3_400</th>\n",
       "      <td>5.390042</td>\n",
       "    </tr>\n",
       "  </tbody>\n",
       "</table>\n",
       "</div>"
      ],
      "text/plain": [
       "                             CGM\n",
       "80_1024_1_5_3_2_3_400  12.411524\n",
       "80_1024_1_6_4_2_3_400   5.390042"
      ]
     },
     "execution_count": 147,
     "metadata": {},
     "output_type": "execute_result"
    }
   ],
   "source": [
    "tmp = pd.concat([\n",
    "    (pd.DataFrame(dth[idx], index=dfh.index) - dfh[[idx]].values)\n",
    "        .describe().T[[\"std\"]].rename(columns={'std': idx})\n",
    "          for idx in [\"CGM\",\"TIR\",\"H70\"][:1] ])\n",
    "tmp\n"
   ]
  },
  {
   "cell_type": "code",
   "execution_count": 148,
   "id": "ae7b85dd-dca7-4f83-98fb-47d42f55dad7",
   "metadata": {},
   "outputs": [
    {
     "data": {
      "text/plain": [
       "(                       count      mean        std        min       25%  \\\n",
       " 80_1024_1_5_3_2_3_400   24.0  2.454011  12.411524 -28.614578 -3.030488   \n",
       " 80_1024_1_6_4_2_3_400   24.0  0.255472   5.390042  -9.588433 -4.289523   \n",
       " \n",
       "                             50%        75%        max  \n",
       " 80_1024_1_5_3_2_3_400  2.932588  13.376880  20.352843  \n",
       " 80_1024_1_6_4_2_3_400 -0.938800   4.722811   9.346733  ,\n",
       "     80_1024_1_5_3_2_3_400  80_1024_1_6_4_2_3_400         CGM\n",
       " 0              190.154681             194.878432  193.328335\n",
       " 1              176.482833             152.566567  162.155000\n",
       " 2              148.461442             142.870604  135.325556\n",
       " 3              108.362507              99.482509  103.670278\n",
       " 4              125.151511             113.264525  118.991944\n",
       " 5               98.317841              80.623287   85.665275\n",
       " 6               86.615128              84.695725   86.410000\n",
       " 7               97.321419              88.769103   93.363889\n",
       " 8              205.915236             195.944189  187.948889\n",
       " 9              123.286077             121.958562  123.873889\n",
       " 10             179.671508             163.250607  164.321091\n",
       " 11             257.964031             241.814213  243.864169\n",
       " 12             272.616375             280.113954  270.767221\n",
       " 13             255.771612             274.964522  271.500000\n",
       " 14             305.245509             288.265597  290.930000\n",
       " 15             308.051697             310.706014  305.168623\n",
       " 16             267.602033             276.024753  271.497767\n",
       " 17             192.610036             226.534898  221.224614\n",
       " 18             224.107167             213.769475  221.435556\n",
       " 19             161.344133             171.921585  177.673333\n",
       " 20             115.943889             121.906795  118.926656\n",
       " 21              72.122029              93.896918   89.515301\n",
       " 22             125.199299             104.039340  104.846456\n",
       " 23             122.727935             126.018825  119.745833)"
      ]
     },
     "execution_count": 148,
     "metadata": {},
     "output_type": "execute_result"
    },
    {
     "data": {
      "image/png": "[encoded data removed]",
      "text/plain": [
       "<Figure size 432x288 with 1 Axes>"
      ]
     },
     "metadata": {
      "needs_background": "light"
     },
     "output_type": "display_data"
    }
   ],
   "source": [
    "idx = \"CGM\"\n",
    "dsh = pd.DataFrame(dth[idx], index=dfh.index)\n",
    "plt.plot(dfh[idx])\n",
    "plt.plot(dsh, \".\")\n",
    "(dsh - dfh[[idx]].values).describe().T, pd.concat([dsh,dfh[idx]], axis =1)\n"
   ]
  },
  {
   "cell_type": "code",
   "execution_count": null,
   "id": "57b3747d-6e15-4f89-93b9-f411b7a3cf38",
   "metadata": {},
   "outputs": [],
   "source": []
  },
  {
   "cell_type": "code",
   "execution_count": null,
   "id": "babdd572-0efd-42ed-af29-79bf8278e41d",
   "metadata": {},
   "outputs": [],
   "source": []
  },
  {
   "cell_type": "code",
   "execution_count": 16,
   "id": "7268fbde-c521-4b1c-b167-eb2f85f7a151",
   "metadata": {},
   "outputs": [
    {
     "name": "stdout",
     "output_type": "stream",
     "text": [
      "data/80_1024_1_6_4/CGM_p77_24h_2_3_400_cgm_hourly.enc 85929\n",
      "data/80_1024_1_6_4/CGM_p77_24h_2_3_400_cgm_hourly.enc 85919\n",
      "data/80_1024_1_6_4/CGM_p77_24h_2_3_400_cgm_hourly.enc 85546\n",
      "data/80_1024_1_6_4/CGM_p77_24h_2_3_400_cgm_hourly.enc 91505\n",
      "data/80_1024_1_6_4/CGM_p77_24h_2_3_400_cgm_hourly.enc 91653\n",
      "data/80_1024_1_6_4/CGM_p77_24h_2_3_400_cgm_hourly.enc 88415\n",
      "data/80_1024_1_6_4/CGM_p77_24h_2_3_400_cgm_hourly.enc 86252\n",
      "data/80_1024_1_6_4/CGM_p77_24h_2_3_400_cgm_hourly.enc 85805\n",
      "data/80_1024_1_6_4/CGM_p77_24h_2_3_400_cgm_hourly.enc 86084\n",
      "data/80_1024_1_6_4/CGM_p77_24h_2_3_400_cgm_hourly.enc 85991\n"
     ]
    }
   ],
   "source": [
    "!tail hourly_stats.txt"
   ]
  },
  {
   "cell_type": "code",
   "execution_count": 17,
   "id": "bd9762cc-4acb-448e-bb6c-8c2d43ae1f94",
   "metadata": {},
   "outputs": [
    {
     "name": "stdout",
     "output_type": "stream",
     "text": [
      "80_1024_1_6_4 CGM_p77_24h_2_3_400 8 46 11098 145 145\n",
      "80_1024_1_6_4 CGM_p77_24h_2_3_400 8 47 10990 148 148\n",
      "80_1024_1_6_4 CGM_p77_24h_2_3_400 8 48 11104 151 151\n",
      "80_1024_1_6_4 CGM_p77_24h_2_3_400 8 49 11123 154 154\n",
      "80_1024_1_6_4 CGM_p77_24h_2_3_400 8 50 11074 157 157\n",
      "80_1024_1_6_4 CGM_p77_24h_2_3_400 8 51 11028 160 160\n",
      "80_1024_1_6_4 CGM_p77_24h_2_3_400 8 52 11265 163 163\n",
      "80_1024_1_6_4 CGM_p77_24h_2_3_400 8 53 11281 166 166\n",
      "80_1024_1_6_4 CGM_p77_24h_2_3_400 8 54 11310 169 169\n",
      "80_1024_1_6_4 CGM_p77_24h_2_3_400 8 55 11239 172 172\n"
     ]
    }
   ],
   "source": [
    "!tail rolling_stats.txt"
   ]
  },
  {
   "cell_type": "code",
   "execution_count": null,
   "id": "9bdebb94-d0bb-4f8c-943c-052427718ee0",
   "metadata": {},
   "outputs": [],
   "source": []
  }
 ],
 "metadata": {
  "kernelspec": {
   "display_name": "Python 3 (ipykernel)",
   "language": "python",
   "name": "python3"
  },
  "language_info": {
   "codemirror_mode": {
    "name": "ipython",
    "version": 3
   },
   "file_extension": ".py",
   "mimetype": "text/x-python",
   "name": "python",
   "nbconvert_exporter": "python",
   "pygments_lexer": "ipython3",
   "version": "3.9.7"
  }
 },
 "nbformat": 4,
 "nbformat_minor": 5
}
