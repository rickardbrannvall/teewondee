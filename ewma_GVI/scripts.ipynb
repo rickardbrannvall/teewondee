{
 "cells": [
  {
   "cell_type": "code",
   "execution_count": 1,
   "id": "db4c7998-d30c-4382-a4dd-a8f272adc97c",
   "metadata": {},
   "outputs": [
    {
     "name": "stdout",
     "output_type": "stream",
     "text": [
      "base_log 6\n",
      "level 4\n",
      "key path keys/80_1024_1_6_4\n",
      "write data/CGM_p77_24h_6_4.enc\n"
     ]
    }
   ],
   "source": [
    "#!target/debug/encode keys data padd prec"
   ]
  },
  {
   "cell_type": "code",
   "execution_count": 14,
   "id": "5ac7a69b-ff78-43f4-a278-3440c5ed22a8",
   "metadata": {},
   "outputs": [
    {
     "name": "stdout",
     "output_type": "stream",
     "text": [
      "assume: encode 80_1024_1_6_6 CGM_p77_24h 2 3 400\n",
      "write to: data/80_1024_1_6_6/CGM_p77_24h_2_3_400.enc\n",
      "assume: encode 80_1024_1_6_6 CGM_p77_24h 3 3 400\n",
      "write to: data/80_1024_1_6_6/CGM_p77_24h_3_3_400.enc\n",
      "assume: encode 80_1024_1_6_6 CGM_p77_24h 4 3 400\n",
      "write to: data/80_1024_1_6_6/CGM_p77_24h_4_3_400.enc\n"
     ]
    }
   ],
   "source": [
    "base_log = 6\n",
    "level = 6\n",
    "#keys = \"80_1024_1_5_3\"\n",
    "data = \"CGM_p77_24h\"\n",
    "padd = 4\n",
    "prec = 3\n",
    "high = 400\n",
    "\n",
    "keys = \"80_1024_1_%d_%d\"%(base_log,level)\n",
    "\n",
    "for padd in [2,3,4]:\n",
    "    script = \"target/debug/encode_data %s %s %d %d %d\"%(keys, data, padd, prec, high)\n",
    "    !$script\n"
   ]
  },
  {
   "cell_type": "code",
   "execution_count": null,
   "id": "7268fbde-c521-4b1c-b167-eb2f85f7a151",
   "metadata": {},
   "outputs": [],
   "source": []
  }
 ],
 "metadata": {
  "kernelspec": {
   "display_name": "Python 3 (ipykernel)",
   "language": "python",
   "name": "python3"
  },
  "language_info": {
   "codemirror_mode": {
    "name": "ipython",
    "version": 3
   },
   "file_extension": ".py",
   "mimetype": "text/x-python",
   "name": "python",
   "nbconvert_exporter": "python",
   "pygments_lexer": "ipython3",
   "version": "3.9.7"
  }
 },
 "nbformat": 4,
 "nbformat_minor": 5
}
